{
 "cells": [
  {
   "cell_type": "markdown",
   "metadata": {},
   "source": [
    "## Observations and Insights "
   ]
  },
  {
   "cell_type": "markdown",
   "metadata": {},
   "source": []
  },
  {
   "cell_type": "code",
   "execution_count": null,
   "metadata": {},
   "outputs": [],
   "source": [
    "# Dependencies and Setup\n",
    "import matplotlib.pyplot as plt\n",
    "import pandas as pd\n",
    "import scipy.stats as st\n",
    "from jupyterthemes import jtplot\n",
    "jtplot.style()\n",
    "\n",
    "# Study data files\n",
    "mouse_metadata_path = 'data/Mouse_metadata.csv'\n",
    "study_results_path = 'data/Study_results.csv'\n",
    "\n",
    "# Read the mouse data and the study results\n",
    "mouse_metadata = pd.read_csv(mouse_metadata_path)\n",
    "study_results = pd.read_csv(study_results_path)\n",
    "\n",
    "# Combine the data into a single dataset\n",
    "df_mouse_merge = mouse_metadata.merge(study_results, left_on = 'Mouse ID', right_on = 'Mouse ID')\n",
    "\n",
    "# Display the data table for preview\n",
    "df_mouse_merge.head()"
   ]
  },
  {
   "cell_type": "code",
   "execution_count": null,
   "metadata": {},
   "outputs": [],
   "source": [
    "# Checking the number of mice.\n",
    "mouse_qty = len(pd.unique(df_mouse_merge['Mouse ID']))\n",
    "mouse_qty"
   ]
  },
  {
   "cell_type": "code",
   "execution_count": null,
   "metadata": {},
   "outputs": [],
   "source": [
    "# Getting the duplicate mice by ID number that shows up for Mouse ID and Timepoint. \n",
    "duplicate_mouse = df_mouse_merge.loc[df_mouse_merge.duplicated(subset=[\n",
    "    'Mouse ID', 'Timepoint']), 'Mouse ID'].unique()\n",
    "duplicate_mouse"
   ]
  },
  {
   "cell_type": "code",
   "execution_count": null,
   "metadata": {
    "scrolled": true
   },
   "outputs": [],
   "source": [
    "# Optional: Get all the data for the duplicate mouse ID. \n",
    "show_duplicates = df_mouse_merge.loc[df_mouse_merge['Mouse ID'] == 'g989']\n",
    "show_duplicates.head()"
   ]
  },
  {
   "cell_type": "code",
   "execution_count": null,
   "metadata": {},
   "outputs": [],
   "source": [
    "# Create a clean DataFrame by dropping the duplicate mouse by its ID.\n",
    "clean_mouse = df_mouse_merge.drop_duplicates().reset_index(drop=True)\n",
    "clean_df = clean_mouse[clean_mouse['Mouse ID'].isin(duplicate_mouse)==False]\n",
    "clean_df.head()"
   ]
  },
  {
   "cell_type": "code",
   "execution_count": null,
   "metadata": {},
   "outputs": [],
   "source": [
    "# Checking the number of mice in the clean DataFrame.\n",
    "mouse_qty = clean_df['Mouse ID'].nunique()\n",
    "mouse_qty"
   ]
  },
  {
   "cell_type": "markdown",
   "metadata": {},
   "source": [
    "## Summary Statistics"
   ]
  },
  {
   "cell_type": "code",
   "execution_count": null,
   "metadata": {},
   "outputs": [],
   "source": [
    "# Generate a summary statistics table of mean, median, variance, standard deviation, \n",
    "# and SEM of the tumor volume for each regimen\n",
    "# Use groupby and summary statistical methods to calculate the following properties \n",
    "# of each drug regimen: mean, median, variance, standard deviation, and SEM of the tumor volume. \n",
    "# Assemble the resulting series into a single summary dataframe.\n",
    "\n",
    "mean_stat = clean_df.groupby('Drug Regimen')['Tumor Volume (mm3)'].mean()\n",
    "median_stat= clean_df.groupby('Drug Regimen')['Tumor Volume (mm3)'].median()\n",
    "var_stat = clean_df.groupby('Drug Regimen')['Tumor Volume (mm3)'].var()\n",
    "stdv_stat = clean_df.groupby('Drug Regimen')['Tumor Volume (mm3)'].std()\n",
    "sem_stat = clean_df.groupby('Drug Regimen')['Tumor Volume (mm3)'].sem()\n",
    "\n",
    "summary_df = pd.DataFrame({'Mean': mean_stat, 'Median': median_stat, 'Variance': \n",
    "                           var_stat, 'Std. Dev.': stdv_stat, 'SEM': sem_stat})\n",
    "summary_df"
   ]
  },
  {
   "cell_type": "code",
   "execution_count": null,
   "metadata": {},
   "outputs": [],
   "source": [
    "# Generate a summary statistics table of mean, median, variance, standard deviation, \n",
    "# and SEM of the tumor volume for each regimen using the aggregation method, \n",
    "# produce the same summary statistics in a single line\n",
    "agg_group = clean_df.groupby('Drug Regimen')\n",
    "agg_summary = agg_group.agg(['mean', 'median', 'var', 'std', 'sem'])['Tumor Volume (mm3)']\n",
    "agg_summary.head()"
   ]
  },
  {
   "cell_type": "markdown",
   "metadata": {},
   "source": [
    "## Bar and Pie Charts"
   ]
  },
  {
   "cell_type": "code",
   "execution_count": null,
   "metadata": {
    "scrolled": true
   },
   "outputs": [],
   "source": [
    "# Generate a bar plot showing the total number of measurements taken on each drug regimen using pandas.\n",
    "regimen_df = clean_df.groupby(['Drug Regimen']).count().reset_index()\n",
    "regimen_data = regimen_df[['Drug Regimen', 'Mouse ID']].rename(columns={'Mouse ID': 'Count'})\n",
    "regimen_data = regimen_data.set_index('Drug Regimen')\n",
    "regimen_data.plot(kind='bar', color='royalblue', figsize=(10,5,))\n",
    "\n",
    "plt.grid(b=None)  # hide grid lines\n",
    "plt.ylabel('Number of Measurements')\n",
    "\n",
    "plt.gca().get_legend().remove()  # turn legend off\n",
    "#plt.gca().get_bar().set_color('royalblue')\n",
    "plt.title('Drug Regimen Measurements')\n",
    "plt.show()"
   ]
  },
  {
   "cell_type": "code",
   "execution_count": null,
   "metadata": {},
   "outputs": [],
   "source": [
    "# Generate a bar plot showing the total number of measurements taken on each drug regimen using pyplot.\n",
    "# create drug regiment data set\n",
    "regimen_list = summary_df.index.tolist()\n",
    "x_axis = regimen_list\n",
    "\n",
    "# Create regimen count\n",
    "regimen_count = (clean_df.groupby(['Drug Regimen'])['Mouse ID'].count()).tolist()\n",
    "fig = plt.figure(figsize =(10, 5))  # format figure Size\n",
    "\n",
    "# Format title\n",
    "plt.title('Drug Regimen Measurements')\n",
    "plt.xlabel('Drug Regimen')\n",
    "plt.ylabel('Number of Measurements')\n",
    "plt.xticks(rotation=90)\n",
    "plt.grid(b=None)   # hide grid lines\n",
    "\n",
    "# Plot bar chart\n",
    "plt.bar(x_axis, regimen_count, color='royalblue', alpha=1, width=.5, align='center')\n",
    "#plt.tight_layout()"
   ]
  },
  {
   "cell_type": "code",
   "execution_count": null,
   "metadata": {},
   "outputs": [],
   "source": [
    "# Generate a pie plot showing the distribution of female versus male mice using pandas\n",
    "# Create dataframe grouping unique players by Gender\n",
    "gender_count = pd.DataFrame(clean_df.groupby('Sex')['Mouse ID'].nunique())\n",
    "\n",
    "# Rename column\n",
    "gender_count = gender_count.rename(columns={'Mouse ID':'Total Count'})\n",
    "\n",
    "# Add column Percentage and calculate gender percentage\n",
    "gender_count['Percentage Split'] = gender_count['Total Count'] / sum(gender_count['Total Count'])\n",
    "\n",
    "# Plot\n",
    "explode = (0.1, 0)\n",
    "plot = gender_count.plot.pie(title='Male vs. Female Mouse Population', y='Total Count', figsize=(6, 6), colors = ['pink', 'royalblue'], startangle=140, explode = explode, shadow = True, autopct=\"%1.1f%%\")\n",
    "plot.set_ylabel(\"\")\n",
    "plot.get_legend().remove()  # turn legend off\n",
    "plt.tight_layout()"
   ]
  },
  {
   "cell_type": "code",
   "execution_count": null,
   "metadata": {},
   "outputs": [],
   "source": [
    "# Generate a pie plot showing the distribution of female versus male mice using pyplot\n",
    "# gender count female, male\n",
    "gender_count = (clean_df.groupby(['Sex'])['Mouse ID'].count()).tolist()\n",
    "\n",
    "# labels for the sections of the pie chart\n",
    "labels = ['Females', 'Males']\n",
    "plt.title('Male vs Female Mouse Population')\n",
    "\n",
    "sizes = gender_count            # The values of each section of the pie chart\n",
    "colors = ['#ff9999','#66b3ff']  # Colors each section of the pie chart\n",
    "explode = (0.1, 0)              # Tells matplotlib not to seperate the sections\n",
    "\n",
    "# Creates the pie chart based upon the values above\n",
    "# Automatically finds the percentages of each part of the pie chart\n",
    "plt.pie(sizes, explode=explode, labels=labels, colors=['pink', 'royalblue'],\n",
    "        autopct=\"%1.1f%%\", shadow=True, startangle=140)\n",
    "plt.tight_layout()"
   ]
  },
  {
   "cell_type": "markdown",
   "metadata": {},
   "source": [
    "## Quartiles, Outliers and Boxplots"
   ]
  },
  {
   "cell_type": "code",
   "execution_count": null,
   "metadata": {},
   "outputs": [],
   "source": [
    "# Calculate the final tumor volume of each mouse across four of the treatment regimens:  \n",
    "# Capomulin, Ramicane, Infubinol, and Ceftamin\n",
    "\n",
    "Capomulin_df = clean_df.loc[clean_df['Drug Regimen'] == 'Capomulin']\n",
    "Ramicane_df = clean_df.loc[clean_df['Drug Regimen'] == 'Ramicane']\n",
    "Infubinol_df = clean_df.loc[clean_df['Drug Regimen'] == 'Infubinol']\n",
    "Ceftamin_df = clean_df.loc[clean_df['Drug Regimen'] == 'Ceftamin']\n",
    "\n",
    "# Capomulin final tumor volume at max timepoint\n",
    "capo_max = Capomulin_df.groupby('Mouse ID')['Timepoint'].max()\n",
    "rami_max = Capomulin_df.groupby('Mouse ID')['Timepoint'].max()\n",
    "infu_max = Capomulin_df.groupby('Mouse ID')['Timepoint'].max()\n",
    "ceft_max = Capomulin_df.groupby('Mouse ID')['Timepoint'].max()\n",
    "####   **** FINISH REGIMEN NAMES\n",
    "# Capomulin. Merge final tumor vol with clean_df dataframe to get the tumor volume at the last timepoint\n",
    "capo_merge = pd.merge(capo_max, clean_df, on= ('Mouse ID', 'Timepoint'),how='left')\n",
    "capo_merge.head()\n",
    "\n",
    "# Ramicane. Merge final tumor vol with clean_df dataframe to get the tumor volume at the last timepoint\n",
    "rami_merge = pd.merge(capo_max, clean_df, on= ('Mouse ID', 'Timepoint'),how='left')\n",
    "capo_merge.head()\n",
    "\n",
    "# Infubinol. Merge final tumor vol with clean_df dataframe to get the tumor volume at the last timepoint\n",
    "infu_merge = pd.merge(capo_max, clean_df, on= ('Mouse ID', 'Timepoint'),how='left')\n",
    "capo_merge.head()\n",
    "\n",
    "# Ceftamin. Merge final tumor vol with clean_df dataframe to get the tumor volume at the last timepoint\n",
    "ceft_merge = pd.merge(capo_max, clean_df, on= ('Mouse ID', 'Timepoint'),how='left')\n",
    "capo_merge.head()\n"
   ]
  },
  {
   "cell_type": "code",
   "execution_count": null,
   "metadata": {},
   "outputs": [],
   "source": [
    "# Put treatments into a list for for loop (and later for plot labels)\n",
    "# Calculate the final tumor volume of each mouse across four of the most promising treatment regimens:\n",
    "# Capomulin, Ramicane, Infubinol, and Ceftamin. Calculate the quartiles and IQR and quantitatively \n",
    "# Determine if there are any potential outliers across all four treatment regimens.\n",
    "\n",
    "list_key_drugs = ['Capomulin', 'Ramicane', 'Infubinol', 'Ceftamin']  \n",
    "filter_drug = merge_data[merge_data['Drug Regimen'].isin(list_key_drugs)]\n",
    "tumor_vol = filter_drug.sort_values(['Drug Regimen']).groupby(['Drug Regimen'], sort=False)\n",
    "\n",
    "# Filter_drug\n",
    "tumor_vol.head()"
   ]
  },
  {
   "cell_type": "code",
   "execution_count": null,
   "metadata": {},
   "outputs": [],
   "source": [
    "# Capomulin\n",
    "# Calculate the IQR and quantitatively determine if there are any potential outliers. \n",
    "capo_df = clean_df.loc[clean_df[\"Drug Regimen\"] == 'Capomulin',:]\n",
    "\n",
    "# Capomulin IQR\n",
    "capo_quar = capo_df['Tumor Volume (mm3)']\n",
    "quartiles = capo_quar.quantile([.25,.5,.75])\n",
    "lowerquart = quartiles[.25]\n",
    "upperquart = quartiles[.75]\n",
    "iqr = upperquart-lowerquart\n",
    "\n",
    "print(f'The lower quartile of the tumor volume is: {lowerquart}')\n",
    "print(f'The upper quartile of the tumor volume is: {upperquart}')\n",
    "print(f'The interquartile range of the tumor volume is: {iqr}')\n",
    "print(f'The the median of tumor the volume is: {quartiles[.5]} ')\n",
    "\n",
    "# Determine outliers using upper and lower bounds\n",
    "high = upperquart + (1.5*iqr)\n",
    "low = lowerquart - (1.5*iqr)    \n",
    "\n",
    "print(f'Values below {low} could be outliers.')\n",
    "print(f'Values above {high} could be outliers.')"
   ]
  },
  {
   "cell_type": "code",
   "execution_count": null,
   "metadata": {},
   "outputs": [],
   "source": [
    "# Ceftamin. Calculate the IQR and quantitatively determine if there are any potential outliers. \n",
    "ceft_df = clean_df.loc[clean_df[\"Drug Regimen\"] == 'Ceftamin',:]\n",
    "\n",
    "# Capomulin IQR\n",
    "ceft_quar = ceft_df['Tumor Volume (mm3)']\n",
    "quartiles = ceft_quar.quantile([.25,.5,.75])\n",
    "lowerquart = quartiles[.25]\n",
    "upperquart = quartiles[.75]\n",
    "iqr = upperquart-lowerquart\n",
    "\n",
    "print(f'The lower quartile of the tumor volume is: {lowerquart}')\n",
    "print(f'The upper quartile of the tumor volume is: {upperquart}')\n",
    "print(f'The interquartile range of the tumor volume is: {iqr}')\n",
    "print(f'The the median of tumor the volume is: {quartiles[.5]} ')\n",
    "\n",
    "# Determine outliers using upper and lower bounds\n",
    "high = upperquart + (1.5*iqr)\n",
    "low = lowerquart - (1.5*iqr)    \n",
    "\n",
    "print(f'Values below {low} could be outliers.')\n",
    "print(f'Values above {high} could be outliers.')"
   ]
  },
  {
   "cell_type": "code",
   "execution_count": null,
   "metadata": {},
   "outputs": [],
   "source": [
    "# Ramicane, Infubinol. Calculate the IQR and quantitatively determine if there are any potential outliers. \n",
    "rami_df = clean_df.loc[clean_df[\"Drug Regimen\"] == 'Ramicane',:]\n",
    "\n",
    "# Capomulin IQR\n",
    "rami_quar = rami_df['Tumor Volume (mm3)']\n",
    "quartiles = rami_quar.quantile([.25,.5,.75])\n",
    "lowerquart = quartiles[.25]\n",
    "upperquart = quartiles[.75]\n",
    "iqr = upperquart-lowerquart\n",
    "\n",
    "print(f'The lower quartile of the tumor volume is: {lowerquart}')\n",
    "print(f'The upper quartile of the tumor volume is: {upperquart}')\n",
    "print(f'The interquartile range of the tumor volume is: {iqr}')\n",
    "print(f'The the median of tumor the volume is: {quartiles[.5]} ')\n",
    "\n",
    "# Determine outliers using upper and lower bounds\n",
    "high = upperquart + (1.5*iqr)\n",
    "low = lowerquart - (1.5*iqr)    \n",
    "\n",
    "print(f'Values below {low} could be outliers.')\n",
    "print(f'Values above {high} could be outliers.')"
   ]
  },
  {
   "cell_type": "code",
   "execution_count": null,
   "metadata": {},
   "outputs": [],
   "source": [
    "# Infubinol. Calculate the IQR and quantitatively determine if there are any potential outliers. \n",
    "infu_df = clean_df.loc[clean_df[\"Drug Regimen\"] == 'Infubinol',:]\n",
    "\n",
    "# Capomulin IQR\n",
    "rami_quar = rami_df['Tumor Volume (mm3)']\n",
    "quartiles = rami_quar.quantile([.25,.5,.75])\n",
    "lowerquart = quartiles[.25]\n",
    "upperquart = quartiles[.75]\n",
    "iqr = upperquart-lowerquart\n",
    "\n",
    "print(f'The lower quartile of the tumor volume is: {lowerquart}')\n",
    "print(f'The upper quartile of the tumor volume is: {upperquart}')\n",
    "print(f'The interquartile range of the tumor volume is: {iqr}')\n",
    "print(f'The the median of tumor the volume is: {quartiles[.5]} ')\n",
    "\n",
    "# Determine outliers using upper and lower bounds\n",
    "high = upperquart + (1.5*iqr)\n",
    "low = lowerquart - (1.5*iqr)    \n",
    "\n",
    "print(f'Values below {low} could be outliers.')\n",
    "print(f'Values above {high} could be outliers.')\n",
    "\n",
    "infu_df"
   ]
  },
  {
   "cell_type": "code",
   "execution_count": null,
   "metadata": {},
   "outputs": [],
   "source": [
    "# Generate a box plot of the final tumor volume of each mouse across four regimens of interest\n",
    "plot_regimen_data =[capo_df, rami_df, infu_df, ceft_df]\n",
    "regimen_labels = ['Capomulin', 'Ramicane', 'Infubinol', 'Ceftamin']\n",
    "\n",
    "fig1, ax = plt.subplots(figsize=(15, 10))\n",
    "ax.set_title('Tumor Volume of Selected Drug Regimen',fontsize =25)\n",
    "ax.set_ylabel('Final Tumor Volume (mm3)',fontsize = 14)\n",
    "ax.set_xlabel('Drug Regimen',fontsize = 14)\n",
    "ax.boxplot(plot_regimen_data, labels=regimen_labels, widths = 0.4, patch_artist=True,vert=True)\n",
    "\n",
    "plt.ylim(10, 80)\n",
    "\n",
    "plt.savefig(\"../Images/box_plot.png\", bbox_inches = \"tight\")\n",
    "\n",
    "plt.show()"
   ]
  },
  {
   "cell_type": "markdown",
   "metadata": {},
   "source": [
    "## Line and Scatter Plots"
   ]
  },
  {
   "cell_type": "code",
   "execution_count": null,
   "metadata": {},
   "outputs": [],
   "source": [
    "# Generate a line plot of tumor volume vs. time point for a mouse treated with Capomulin\n"
   ]
  },
  {
   "cell_type": "markdown",
   "metadata": {},
   "source": [
    "## Correlation and Regression"
   ]
  },
  {
   "cell_type": "code",
   "execution_count": null,
   "metadata": {},
   "outputs": [],
   "source": [
    "# Calculate the correlation coefficient and linear regression model \n",
    "# for mouse weight and average tumor volume for the Capomulin regimen\n"
   ]
  },
  {
   "cell_type": "code",
   "execution_count": null,
   "metadata": {},
   "outputs": [],
   "source": []
  },
  {
   "cell_type": "code",
   "execution_count": null,
   "metadata": {},
   "outputs": [],
   "source": [
    "####tumor_vol = filter_drug.groupby\n",
    "\n",
    "drug_list = filter_drug['Drug Regimen'].tolist()\n",
    "drug_list = list(set(drug_list))\n",
    "print(drug_list)\n",
    "\n",
    "# Create empty list to fill with tumor vol data (for plotting)\n",
    "empty_tumor_list = []\n",
    "##### ***** END OF SECTION ***** #####"
   ]
  }
 ],
 "metadata": {
  "anaconda-cloud": {},
  "kernelspec": {
   "display_name": "Python 3",
   "language": "python",
   "name": "python3"
  },
  "language_info": {
   "codemirror_mode": {
    "name": "ipython",
    "version": 3
   },
   "file_extension": ".py",
   "mimetype": "text/x-python",
   "name": "python",
   "nbconvert_exporter": "python",
   "pygments_lexer": "ipython3",
   "version": "3.6.10"
  }
 },
 "nbformat": 4,
 "nbformat_minor": 4
}
