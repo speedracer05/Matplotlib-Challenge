{
 "cells": [
  {
   "cell_type": "markdown",
   "metadata": {},
   "source": [
    "## Observations and Insights "
   ]
  },
  {
   "cell_type": "markdown",
   "metadata": {},
   "source": [
    "1. The Summary Statistics dataframe shows both Capomulin and Ramicane have the smallest Mean tumor size of all the drug regimen tested, with mean tumor volumes of 40.67 and 40.21 respectively. Looking further, Ramicane has a slightly lower variance 23.46 vs Capomulin at 24.94.  The small variance indicates that Ramicane data points are closer to the mean that that of Capomulin. The other drugs in their cohort showed tumor volumes that were 28% to 37% larger. \n",
    "1. The drug regimen bar charts show that both Capumulin and Ramicane have a higher number of measurements than their cohorts. A higher number of measurements could allow for improved precision of the estimates and in the strength of the study.   \n",
    "1. In examining the IQR results, both Capumulin and Ramicane don't have any outliers. There is a mixed picture when looking at the lower, upper and median quartile for tumor volume. The numbers are close enough that one can't discern which drug has the best results. However, when compared to their cohorts, both had significantly lower Q1 and Q3 ranges. \n",
    "1. The boxplot paints a clear picture, visually dipicting Capumulin and Ramicane had lower tumor volumes than the cohort. The boxplot also shows that Infubinol has an outlier below its minimum IQR.\n",
    "1. Using scipy pearsonr, the calculated result of 0.842, shows a correlation between mouse #j246 weight and average tumor volume. The scatter chart with line regression further confirmed that as the weight of the mouse increased, so did the tumor. This was also verified by the regression line that was calculated and overlayed on top of the scatter chart.\n",
    "1. The data shows that both Capumulin and Ramicane had a significant impact in reducing tumor size over those in their cohort."
   ]
  },
  {
   "cell_type": "code",
   "execution_count": null,
   "metadata": {},
   "outputs": [],
   "source": [
    "# Dependencies and Setup\n",
    "import matplotlib.pyplot as plt\n",
    "from matplotlib.pyplot import figure\n",
    "import pandas as pd\n",
    "import numpy as np\n",
    "from scipy.stats import pearsonr\n",
    "from scipy.stats import linregress\n",
    "import dataframe_image as dfi"
   ]
  },
  {
   "cell_type": "markdown",
   "metadata": {},
   "source": [
    "**Raw Data**"
   ]
  },
  {
   "cell_type": "code",
   "execution_count": null,
   "metadata": {},
   "outputs": [],
   "source": [
    "# Study data files\n",
    "mouse_metadata_path = 'data/Mouse_metadata.csv'\n",
    "study_results_path = 'data/Study_results.csv'\n",
    "\n",
    "# Read the mouse data and the study results\n",
    "mouse_metadata = pd.read_csv(mouse_metadata_path)\n",
    "study_results = pd.read_csv(study_results_path)\n",
    "\n",
    "# Combine the data into a single dataset and display\n",
    "df_mouse_merge = mouse_metadata.merge(study_results, left_on = 'Mouse ID', right_on = 'Mouse ID')\n",
    "df_mouse_merge.head()"
   ]
  },
  {
   "cell_type": "markdown",
   "metadata": {},
   "source": [
    "**Data Verification & Dataframe Cleanup**"
   ]
  },
  {
   "cell_type": "code",
   "execution_count": null,
   "metadata": {},
   "outputs": [],
   "source": [
    "# Checking the number of mice.\n",
    "mouse_qty = len(pd.unique(df_mouse_merge['Mouse ID']))\n",
    "print(mouse_qty)\n",
    "\n",
    "# Getting the duplicate mice by ID number that shows up for Mouse ID and Timepoint. \n",
    "duplicate_mouse = df_mouse_merge.loc[df_mouse_merge.duplicated(subset=[\n",
    "    'Mouse ID', 'Timepoint']), 'Mouse ID'].unique()\n",
    "print(duplicate_mouse)"
   ]
  },
  {
   "cell_type": "code",
   "execution_count": null,
   "metadata": {
    "scrolled": true
   },
   "outputs": [],
   "source": [
    "# Optional: Get all the data for the duplicate mouse ID. \n",
    "show_duplicates = df_mouse_merge.loc[df_mouse_merge['Mouse ID'] == 'g989']\n",
    "show_duplicates.head()"
   ]
  },
  {
   "cell_type": "code",
   "execution_count": null,
   "metadata": {},
   "outputs": [],
   "source": [
    "# Create a clean DataFrame by dropping the duplicate mouse by its ID.\n",
    "clean_mouse = df_mouse_merge.drop_duplicates().reset_index(drop=True)\n",
    "clean_df = clean_mouse[clean_mouse['Mouse ID'].isin(duplicate_mouse)==False]\n",
    "clean_df.head()"
   ]
  },
  {
   "cell_type": "code",
   "execution_count": null,
   "metadata": {},
   "outputs": [],
   "source": [
    "# Checking the number of mice in the clean DataFrame.\n",
    "mouse_qty = clean_df['Mouse ID'].nunique()\n",
    "mouse_qty"
   ]
  },
  {
   "cell_type": "markdown",
   "metadata": {},
   "source": [
    "## Summary Statistics"
   ]
  },
  {
   "cell_type": "code",
   "execution_count": null,
   "metadata": {},
   "outputs": [],
   "source": [
    "# Generate a summary statistics table of mean, median, variance, standard deviation, \n",
    "# and SEM of the tumor volume for each regimen\n",
    "mean_stat = clean_df.groupby('Drug Regimen')['Tumor Volume (mm3)'].mean()\n",
    "median_stat= clean_df.groupby('Drug Regimen')['Tumor Volume (mm3)'].median()\n",
    "var_stat = clean_df.groupby('Drug Regimen')['Tumor Volume (mm3)'].var()\n",
    "stdv_stat = clean_df.groupby('Drug Regimen')['Tumor Volume (mm3)'].std()\n",
    "sem_stat = clean_df.groupby('Drug Regimen')['Tumor Volume (mm3)'].sem()\n",
    "\n",
    "summary_df = pd.DataFrame({'Mean': mean_stat, 'Median': median_stat, 'Variance': \n",
    "                           var_stat, 'Std. Dev.': stdv_stat, 'SEM': sem_stat})\n",
    "dfi.export(summary_df, '../Images/sum_stats.png')   # Export dataframe as image\n",
    "summary_df"
   ]
  },
  {
   "cell_type": "code",
   "execution_count": null,
   "metadata": {},
   "outputs": [],
   "source": [
    "# Create summary statistics table of mean, median, variance, standard deviation, and SEM \n",
    "# of the tumor volume for each regimen using the aggregation method, \n",
    "# produce the same summary statistics in a single line\n",
    "agg_group = clean_df.groupby('Drug Regimen')\n",
    "agg_summary = agg_group.agg(['mean', 'median', 'var', 'std', 'sem'])['Tumor Volume (mm3)']\n",
    "agg_summary.rename(columns = {'mean':'Mean', 'median':'Median',\n",
    "                              'var':'Variance', 'std':'Std. Dev.', 'sem':'SEM'}, inplace = True)\n",
    "agg_summary.head()"
   ]
  },
  {
   "cell_type": "markdown",
   "metadata": {},
   "source": [
    "## Bar and Pie Charts"
   ]
  },
  {
   "cell_type": "code",
   "execution_count": null,
   "metadata": {
    "scrolled": true
   },
   "outputs": [],
   "source": [
    "# Generate a bar plot showing the total number of measurements taken on each drug regimen using pandas.\n",
    "regimen_df = clean_df.groupby(['Drug Regimen']).count().reset_index()\n",
    "regimen_data = regimen_df[['Drug Regimen', 'Mouse ID']].rename(columns={'Mouse ID': 'Count'})\n",
    "regimen_data = regimen_data.set_index('Drug Regimen')\n",
    "regimen_data.plot(kind='bar', color='royalblue', figsize=(8,4,))\n",
    "\n",
    "plt.grid(b=False)  # hide grid lines\n",
    "plt.ylabel('Number of Measurements')\n",
    "\n",
    "plt.gca().get_legend().remove()  # turn legend off\n",
    "#plt.gca().get_bar().set_color('royalblue')\n",
    "plt.title('Drug Regimen Measurements')\n",
    "plt.show()"
   ]
  },
  {
   "cell_type": "code",
   "execution_count": null,
   "metadata": {},
   "outputs": [],
   "source": [
    "# Generate a bar plot showing the total number of measurements taken on each drug regimen using pyplot.\n",
    "# create drug regiment data set\n",
    "regimen_list = summary_df.index.tolist()\n",
    "x_axis = regimen_list\n",
    "\n",
    "# Create regimen count\n",
    "regimen_count = (clean_df.groupby(['Drug Regimen'])['Mouse ID'].count()).tolist()\n",
    "fig = plt.figure(figsize =(8, 4))  # format figure Size\n",
    "\n",
    "# Format title\n",
    "plt.title('Drug Regimen Measurements')\n",
    "plt.xlabel('Drug Regimen')\n",
    "plt.ylabel('Number of Measurements')\n",
    "plt.xticks(rotation=90)\n",
    "plt.grid(b=False)   # hide grid lines\n",
    "\n",
    "# Plot bar chart\n",
    "plt.bar(x_axis, regimen_count, color='royalblue', alpha=1, width=.5, align='center')\n",
    "#plt.tight_layout()"
   ]
  },
  {
   "cell_type": "code",
   "execution_count": null,
   "metadata": {},
   "outputs": [],
   "source": [
    "# Generate a pie plot showing the distribution of female versus male mice using pandas\n",
    "# Create dataframe grouping unique players by Gender\n",
    "gender_count = pd.DataFrame(clean_df.groupby('Sex')['Mouse ID'].nunique())\n",
    "\n",
    "# Rename column\n",
    "gender_count = gender_count.rename(columns={'Mouse ID':'Total Count'})\n",
    "\n",
    "# Add column Percentage and calculate gender percentage\n",
    "gender_count['Percentage Split'] = gender_count['Total Count'] / sum(gender_count['Total Count'])\n",
    "\n",
    "# Plot\n",
    "explode = (0.1, 0)\n",
    "plot = gender_count.plot.pie(y='Total Count', figsize=(4, 4), colors = ['pink', 'royalblue'], \n",
    "                             startangle=140, explode = explode, shadow = True, autopct=\"%1.1f%%\")\n",
    "plt.suptitle('Male vs. Female Mouse Population', fontsize = 14)\n",
    "plot.set_ylabel(\"\")\n",
    "plot.get_legend().remove()  # turn legend off\n",
    "plt.tight_layout()"
   ]
  },
  {
   "cell_type": "code",
   "execution_count": null,
   "metadata": {},
   "outputs": [],
   "source": [
    "# Generate a pie plot showing the distribution of female versus male mice using pyplot\n",
    "# gender count female, male\n",
    "gender_count = (clean_df.groupby(['Sex'])['Mouse ID'].count()).tolist()\n",
    "\n",
    "plt.figure(figsize=(4,4))\n",
    "# labels for the sections of the pie chart\n",
    "labels = ['Females', 'Males']\n",
    "plt.title('Male vs Female Mouse Population', fontsize = 14)\n",
    "\n",
    "sizes = gender_count            # The values of each section of the pie chart\n",
    "colors = ['#ff9999','#66b3ff']  # Colors each section of the pie chart\n",
    "explode = (0.1, 0)              # Tells matplotlib not to seperate the sections\n",
    "\n",
    "# Creates the pie chart based upon the values above and automatically finds % of each part of chart\n",
    "plt.pie(sizes, explode=explode, labels=labels, colors=['pink', 'royalblue'],\n",
    "        autopct=\"%1.1f%%\", shadow=True, startangle=140)\n",
    "\n",
    "plt.tight_layout()"
   ]
  },
  {
   "cell_type": "markdown",
   "metadata": {},
   "source": [
    "## Quartiles, Outliers and Boxplots"
   ]
  },
  {
   "cell_type": "code",
   "execution_count": null,
   "metadata": {},
   "outputs": [],
   "source": [
    "# Calculate the final tumor volume of each mouse across four of the treatment regimens:  \n",
    "# Capomulin, Ramicane, Infubinol, and Ceftamin\n",
    "\n",
    "# Start by getting the last (greatest) timepoint for each mouse\n",
    "df_max = clean_df.groupby('Mouse ID')['Timepoint'].max()\n",
    "df_max.head()\n",
    "\n",
    "# Merge this group df with the original dataframe to get the tumor volume at the last timepoint\n",
    "df_max = pd.merge(df_max, clean_df, on=('Mouse ID', 'Timepoint'), how='left')\n",
    "df_max.to_csv('data/df_max.csv')\n",
    "df_max.head()     # Preview data table"
   ]
  },
  {
   "cell_type": "code",
   "execution_count": null,
   "metadata": {},
   "outputs": [],
   "source": [
    "# Calculate the final tumor volume of each mouse across four of the treatment regimens:  \n",
    "# Capomulin, Ramicane, Infubinol, and Ceftamin\n",
    "\n",
    "# Start by getting the last (greatest) timepoint for each mouse\n",
    "\n",
    "# Retrieve rows of specified Drug Regimen\n",
    "Capomulin_df = clean_df.loc[clean_df['Drug Regimen'] == 'Capomulin']\n",
    "Ramicane_df = clean_df.loc[clean_df['Drug Regimen'] == 'Ramicane']\n",
    "Infubinol_df = clean_df.loc[clean_df['Drug Regimen'] == 'Infubinol']\n",
    "Ceftamin_df = clean_df.loc[clean_df['Drug Regimen'] == 'Ceftamin']\n",
    "\n",
    "# Final tumor volume at max timepoint\n",
    "capo_max = Capomulin_df.groupby('Mouse ID')['Timepoint'].max()\n",
    "rami_max = Ramicane_df.groupby('Mouse ID')['Timepoint'].max()\n",
    "infu_max = Infubinol_df.groupby('Mouse ID')['Timepoint'].max()\n",
    "ceft_max = Ceftamin_df.groupby('Mouse ID')['Timepoint'].max()\n",
    "\n",
    "# Merge final tumor vol with clean_df dataframe to get the tumor volume at the last timepoint\n",
    "capo_merge = pd.merge(capo_max, clean_df, on= ('Mouse ID', 'Timepoint'),how='left')\n",
    "rami_merge = pd.merge(rami_max, clean_df, on= ('Mouse ID', 'Timepoint'),how='left')\n",
    "infu_merge = pd.merge(infu_max, clean_df, on= ('Mouse ID', 'Timepoint'),how='left')\n",
    "ceft_merge = pd.merge(ceft_max, clean_df, on= ('Mouse ID', 'Timepoint'),how='left')\n",
    "capo_merge.head()  # used to validate dataframe"
   ]
  },
  {
   "cell_type": "code",
   "execution_count": null,
   "metadata": {},
   "outputs": [],
   "source": [
    "# Put treatments into a list for for loop (and later for plot labels)\n",
    "list_drugs = ['Capomulin', 'Ramicane', 'Infubinol', 'Ceftamin']\n",
    "\n",
    "# Create empty list to fill with tumor vol data (for plotting)\n",
    "empty_drugs_list = []\n",
    "                  \n",
    "# Calculate the IQR and quantitatively determine if there are any potential outliers. \n",
    "for drug in list_drugs:\n",
    "    \n",
    "    # Locate the rows which contain mice on each drug and get the tumor volumes\n",
    "    # add subset \n",
    "    # Determine outliers using upper and lower bounds"
   ]
  },
  {
   "cell_type": "markdown",
   "metadata": {},
   "source": [
    "**Find IQR using forLoop**"
   ]
  },
  {
   "cell_type": "code",
   "execution_count": null,
   "metadata": {},
   "outputs": [],
   "source": [
    "# Put treatments into a list for for loop (and later for plot labels)\n",
    "list_drugs = ['capo_merge', 'rami_merge', 'infu_merge', 'ceft_merge']\n",
    "\n",
    "# Create empty list to fill with tumor vol data (for plotting)\n",
    "empty_drubs_list = []\n",
    "\n",
    "for drug in list_drugs\n",
    "    "
   ]
  },
  {
   "cell_type": "code",
   "execution_count": null,
   "metadata": {},
   "outputs": [],
   "source": [
    "# Capomulin. Calculate the IQR and quantitatively determine if there are any potential outliers. \n",
    "capo_quar = capo_merge['Tumor Volume (mm3)']\n",
    "quartiles = capo_quar.quantile([.25,.5,.75])\n",
    "lowerquart = quartiles[.25]\n",
    "upperquart = quartiles[.75]\n",
    "iqr = upperquart-lowerquart\n",
    "\n",
    "print(f'The lower quartile of the tumor volume is: {lowerquart}')\n",
    "print(f'The upper quartile of the tumor volume is: {upperquart}')\n",
    "print(f'The interquartile range of the tumor volume is: {iqr}')\n",
    "print(f'The the median of tumor the volume is: {quartiles[.5]} ')\n",
    "\n",
    "# Determine outliers by using upper and lower bounds\n",
    "high = upperquart + (1.5*iqr)\n",
    "low = lowerquart - (1.5*iqr)    \n",
    "\n",
    "print(f'Values below {low} could be outliers.')\n",
    "print(f'Values above {high} could be outliers.')"
   ]
  },
  {
   "cell_type": "code",
   "execution_count": null,
   "metadata": {},
   "outputs": [],
   "source": [
    "# Ceftamin. Calculate the IQR and quantitatively determine if there are any potential outliers. \n",
    "ceft_quar = ceft_merge['Tumor Volume (mm3)']\n",
    "quartiles = ceft_quar.quantile([.25,.5,.75])\n",
    "lowerquart = quartiles[.25]\n",
    "upperquart = quartiles[.75]\n",
    "iqr = upperquart-lowerquart\n",
    "\n",
    "print(f'The lower quartile of the tumor volume is: {lowerquart}')\n",
    "print(f'The upper quartile of the tumor volume is: {upperquart}')\n",
    "print(f'The interquartile range of the tumor volume is: {iqr}')\n",
    "print(f'The the median of tumor the volume is: {quartiles[.5]} ')\n",
    "\n",
    "# Determine outliers by using upper and lower bounds\n",
    "high = upperquart + (1.5*iqr)\n",
    "low = lowerquart - (1.5*iqr)    \n",
    "\n",
    "print(f'Values below {low} could be outliers.')\n",
    "print(f'Values above {high} could be outliers.')"
   ]
  },
  {
   "cell_type": "code",
   "execution_count": null,
   "metadata": {},
   "outputs": [],
   "source": [
    "# Ramicane. Calculate the IQR and quantitatively determine if there are any potential outliers. \n",
    "rami_quar = rami_merge['Tumor Volume (mm3)']\n",
    "quartiles = rami_quar.quantile([.25,.5,.75])\n",
    "lowerquart = quartiles[.25]\n",
    "upperquart = quartiles[.75]\n",
    "iqr = upperquart-lowerquart\n",
    "\n",
    "print(f'The lower quartile of the tumor volume is: {lowerquart}')\n",
    "print(f'The upper quartile of the tumor volume is: {upperquart}')\n",
    "print(f'The interquartile range of the tumor volume is: {iqr}')\n",
    "print(f'The the median of tumor the volume is: {quartiles[.5]} ')\n",
    "\n",
    "# Determine outliers by using upper and lower bounds\n",
    "high = upperquart + (1.5*iqr)\n",
    "low = lowerquart - (1.5*iqr)    \n",
    "\n",
    "print(f'Values below {low} could be outliers.')\n",
    "print(f'Values above {high} could be outliers.')"
   ]
  },
  {
   "cell_type": "code",
   "execution_count": null,
   "metadata": {},
   "outputs": [],
   "source": [
    "# Infubinol. Calculate the IQR and quantitatively determine if there are any potential outliers. \n",
    "infu_quar = infu_merge['Tumor Volume (mm3)']\n",
    "quartiles = infu_quar.quantile([.25,.5,.75])\n",
    "lowerquart = quartiles[.25]\n",
    "upperquart = quartiles[.75]\n",
    "iqr = upperquart-lowerquart\n",
    "\n",
    "print(f'The lower quartile of the tumor volume is: {lowerquart}')\n",
    "print(f'The upper quartile of the tumor volume is: {upperquart}')\n",
    "print(f'The interquartile range of the tumor volume is: {iqr}')\n",
    "print(f'The the median of tumor the volume is: {quartiles[.5]} ')\n",
    "\n",
    "# Determine outliers by using upper and lower bounds\n",
    "high = upperquart + (1.5*iqr)\n",
    "low = lowerquart - (1.5*iqr)    \n",
    "\n",
    "print(f'Values below {low} could be outliers.')\n",
    "print(f'Values above {high} could be outliers.')"
   ]
  },
  {
   "cell_type": "code",
   "execution_count": null,
   "metadata": {},
   "outputs": [],
   "source": [
    "# Generate a box plot of the final tumor volume of each mouse across four regimens of interest\n",
    "plot_regimen_data =[capo_quar, rami_quar, infu_quar, ceft_quar]\n",
    "regimen_labels = ['Capomulin', 'Ramicane', 'Infubinol', 'Ceftamin']\n",
    "\n",
    "fig1, ax = plt.subplots(figsize=(8, 4))  # Plot size\n",
    "f = 'lightgray'  # Property dictionaries (colors)\n",
    "c = 'blue'\n",
    "b = 'lightblue'\n",
    "w = 'red'\n",
    "m = 'blue'\n",
    "ax.set_title('Tumor Volume of Selected Drug Regimen',fontsize =18)\n",
    "ax.set_ylabel('Final Tumor Volume (mm3)',fontsize = 10)\n",
    "ax.set_xlabel('Drug Regimen',fontsize = 10)\n",
    "ax.boxplot(plot_regimen_data, labels=regimen_labels, widths = 0.4, patch_artist=True,vert=True, \n",
    "           boxprops=dict(facecolor=f, color=c),\n",
    "           capprops=dict(color=c),\n",
    "           whiskerprops=dict(color=c),\n",
    "           flierprops=dict(color=w, markeredgecolor=w),\n",
    "           medianprops=dict(color=m),\n",
    "           )\n",
    "\n",
    "plt.ylim(10, 80)\n",
    "\n",
    "plt.savefig(\"../Images/box_plot.png\", bbox_inches = \"tight\")\n",
    "\n",
    "plt.show()"
   ]
  },
  {
   "cell_type": "markdown",
   "metadata": {},
   "source": [
    "## Line and Scatter Plots"
   ]
  },
  {
   "cell_type": "code",
   "execution_count": null,
   "metadata": {},
   "outputs": [],
   "source": [
    "# Select mouse treated with Capomulin and display data\n",
    "line_df = Capomulin_df.loc[Capomulin_df['Mouse ID'] == 'j246',:]\n",
    "line_df.head()"
   ]
  },
  {
   "cell_type": "code",
   "execution_count": null,
   "metadata": {
    "scrolled": true
   },
   "outputs": [],
   "source": [
    "# Generate a line plot of tumor volume vs. time point for a mouse #j246\n",
    "x_axis = line_df['Timepoint']\n",
    "y_axis = line_df['Tumor Volume (mm3)']\n",
    "\n",
    "fig1, ax1 = plt.subplots(figsize=(8, 4))   # Plot size\n",
    "plt.plot(x_axis, y_axis,linewidth=1, markersize=10,marker=\"o\",color=\"blue\")\n",
    "plt.title('Mouse j246 Treated with Capomulin',fontsize = 18)\n",
    "plt.xlabel('Time (Days)',fontsize = 10)\n",
    "plt.ylabel('Tumor Volume (mm3)',fontsize = 10)\n",
    "plt.show()"
   ]
  },
  {
   "cell_type": "markdown",
   "metadata": {},
   "source": [
    "## Correlation and Regression"
   ]
  },
  {
   "cell_type": "code",
   "execution_count": null,
   "metadata": {},
   "outputs": [],
   "source": [
    "# Create scatter plot of tumor volume vs mouse weight for Capomulin treatment \n",
    "avg_capo_data = Capomulin_df.groupby(['Mouse ID']).mean()\n",
    "x_val = avg_capo_data['Weight (g)']\n",
    "y_val = avg_capo_data['Tumor Volume (mm3)']\n",
    "\n",
    "fig1, ax1 = plt.subplots(figsize=(8, 4))   # Plot size\n",
    "plt.scatter(x_val,y_val, s=120, color='orange')\n",
    "plt.title('Mouse j246 Weight vs. Average Tumor Volume',fontsize =18)\n",
    "plt.xlabel('Weight (g)',fontsize =10)\n",
    "plt.ylabel('Averag Tumor Volume (mm3)',fontsize =10)\n",
    "plt.show()"
   ]
  },
  {
   "cell_type": "code",
   "execution_count": null,
   "metadata": {},
   "outputs": [],
   "source": [
    "# Calculate the correlation coefficient and linear regression model \n",
    "# for mouse weight and average tumor volume for the Capomulin regimen\n",
    "corr, _= pearsonr(x_val,y_val)\n",
    "print(f'The correlation between #j246 weight and average tumor volume is: %.3f' % corr)\n",
    "\n",
    "# use lingress to find the values used to derive values for the linear regression model\n",
    "(slope, intercept, rvalue, pvalue, stderr) = linregress(x_val,y_val)\n",
    "regression_val = x_val*slope+intercept\n",
    "\n",
    "print(f'Slope: {slope}')\n",
    "print(f'Intercept: {intercept}')\n",
    "print(f'Rvalue (Correlation Coefficient): {rvalue}')\n",
    "print(f'Scipy Pearnsonr (Correlation Coefficeint):  %.2f%%' % corr)\n",
    "print(f'Pvalue: {pvalue}')\n",
    "print(f'Stderr: {stderr}')"
   ]
  },
  {
   "cell_type": "code",
   "execution_count": null,
   "metadata": {},
   "outputs": [],
   "source": [
    "# Using linear regression values, plot the linear regression model on top of the previous scatter plot. \n",
    "fig1, ax1 = plt.subplots(figsize=(8, 4))   # Plot size\n",
    "plt.scatter(x_val,y_val, s=120, color='orange')\n",
    "plt.title('Mouse j246 Weight vs. Average Tumor Volume',fontsize =18)\n",
    "plt.xlabel('Weight (g)',fontsize =10)\n",
    "plt.ylabel('Averag Tumor Volume (mm3)',fontsize =10)\n",
    "plt.plot(x_val,regression_val,'b-')\n",
    "plt.savefig('../Images/linear_regression.png', bbox_inches = 'tight')\n",
    "plt.show()"
   ]
  },
  {
   "cell_type": "markdown",
   "metadata": {},
   "source": [
    "**Challenging Myself**"
   ]
  },
  {
   "cell_type": "code",
   "execution_count": null,
   "metadata": {},
   "outputs": [],
   "source": [
    "# Used numpy polyfit to calculate the slope-intercept for the linear regression line\n",
    "fig1, ax1 = plt.subplots(figsize=(8, 4))   # Plot size\n",
    "plt.scatter(x_val,y_val, s=120, color='orange')\n",
    "plt.title('Mouse j246 Weight vs. Average Tumor Volume',fontsize =18)\n",
    "plt.xlabel('Weight (g)',fontsize =10)\n",
    "plt.ylabel('Averag Tumor Volume (mm3)',fontsize =10)\n",
    "\n",
    "# Get slope and intercept for linear regression line (LRL)\n",
    "m, b = np.polyfit(x_val,y_val, 1)\n",
    "\n",
    "# add LRL to scatter plot\n",
    "plt.plot(x_val, m*x_val+b)\n",
    "plt.show()"
   ]
  },
  {
   "cell_type": "code",
   "execution_count": null,
   "metadata": {},
   "outputs": [],
   "source": []
  }
 ],
 "metadata": {
  "anaconda-cloud": {},
  "kernelspec": {
   "display_name": "Python 3",
   "language": "python",
   "name": "python3"
  },
  "language_info": {
   "codemirror_mode": {
    "name": "ipython",
    "version": 3
   },
   "file_extension": ".py",
   "mimetype": "text/x-python",
   "name": "python",
   "nbconvert_exporter": "python",
   "pygments_lexer": "ipython3",
   "version": "3.6.10"
  }
 },
 "nbformat": 4,
 "nbformat_minor": 4
}
